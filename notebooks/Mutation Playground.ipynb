{
 "cells": [
  {
   "cell_type": "code",
   "execution_count": 362,
   "metadata": {
    "collapsed": true
   },
   "outputs": [],
   "source": [
    "import numpy as np\n",
    "import pandas as pd\n",
    "import scipy\n",
    "import imageio\n",
    "import math\n",
    "import phylo\n",
    "\n",
    "from PIL import Image\n",
    "from sklearn.linear_model import LogisticRegression\n",
    "from sklearn.model_selection import train_test_split\n",
    "\n",
    "%matplotlib inline\n",
    "import matplotlib.pyplot as plt\n",
    "from matplotlib.pyplot import imshow\n",
    "import seaborn as sns\n",
    "sns.set(style=\"ticks\")\n",
    "plt.style.use(\"seaborn-whitegrid\")"
   ]
  },
  {
   "cell_type": "code",
   "execution_count": 2,
   "metadata": {
    "collapsed": true
   },
   "outputs": [],
   "source": [
    "%load_ext blackcellmagic"
   ]
  },
  {
   "cell_type": "code",
   "execution_count": 3,
   "metadata": {},
   "outputs": [
    {
     "name": "stdout",
     "output_type": "stream",
     "text": [
      "Vectorizing pokemon from /Users/vineshkannan/Documents/GitHub/phylo/images/regular/\n",
      "Vector iteration 0\n",
      "Vector iteration 100\n",
      "Vector iteration 200\n",
      "Vector iteration 300\n",
      "Vector iteration 400\n",
      "Vector iteration 500\n",
      "Vector iteration 600\n",
      "Done vectorizing\n",
      "Vectorizing pokemon from /Users/vineshkannan/Documents/GitHub/phylo/images/shiny/\n",
      "Vector iteration 0\n",
      "Vector iteration 100\n",
      "Vector iteration 200\n",
      "Vector iteration 300\n",
      "Vector iteration 400\n",
      "Vector iteration 500\n",
      "Vector iteration 600\n",
      "Done vectorizing\n"
     ]
    }
   ],
   "source": [
    "np.random.seed(820)\n",
    "REGULAR_POKEMON = phylo.vectorize_pokemon(phylo.REGULAR_POKEMON_PATH)\n",
    "SHINY_POKEMON = phylo.vectorize_pokemon(phylo.SHINY_POKEMON_PATH)"
   ]
  },
  {
   "cell_type": "code",
   "execution_count": 4,
   "metadata": {},
   "outputs": [
    {
     "data": {
      "image/png": "[encoded data removed]",
      "text/plain": [
       "<PIL.Image.Image image mode=RGBA size=96x96 at 0x10B45ACF8>"
      ]
     },
     "execution_count": 4,
     "metadata": {},
     "output_type": "execute_result"
    }
   ],
   "source": [
    "known_creatures = list(REGULAR_POKEMON) + list(SHINY_POKEMON)\n",
    "np.random.shuffle(known_creatures)\n",
    "phylo.unvectorize(known_creatures[0])"
   ]
  },
  {
   "cell_type": "code",
   "execution_count": 409,
   "metadata": {},
   "outputs": [],
   "source": [
    "def col_counts(col):\n",
    "    buckets = np.zeros(phylo.Q + 1)\n",
    "    for x in col:\n",
    "        buckets[x] += 1\n",
    "    return buckets\n",
    "\n",
    "def col_freq(col):\n",
    "    buckets = col_counts(col)\n",
    "    freq = buckets / buckets.sum()\n",
    "    return freq\n",
    "\n",
    "def col_exp(col):\n",
    "    freq = col_freq(col)\n",
    "    expt = np.dot(freq, np.array(range(phylo.Q + 1))).sum()\n",
    "    return expt\n",
    "\n",
    "def draw_val(col):\n",
    "    expt = col_exp(col)\n",
    "    return math.floor(expt)\n",
    "\n",
    "def generate_expected(train_pop, n_sub, seed=None):\n",
    "    if seed:\n",
    "        np.random.seed(seed)\n",
    "    idxs = list(np.random.choice(range(len(train_pop)), n_sub))\n",
    "    subsample = np.array([train_pop[i] for i in idxs])\n",
    "    ev = np.array([draw_val(subsample[:,j]) for j in range(phylo.M**2)])\n",
    "    return ev\n",
    "\n",
    "def expect_from_subsample(subsample):\n",
    "    ev = np.array([draw_val(subsample[:,j]) for j in range(phylo.M**2)])\n",
    "    return ev"
   ]
  },
  {
   "cell_type": "code",
   "execution_count": 55,
   "metadata": {},
   "outputs": [
    {
     "data": {
      "text/plain": [
       "2596"
      ]
     },
     "execution_count": 55,
     "metadata": {},
     "output_type": "execute_result"
    }
   ],
   "source": [
    "n_sub = 50\n",
    "train_pop = known_creatures + [phylo.generate_random() for i in range(len(known_creatures))]\n",
    "np.random.shuffle(train_pop)\n",
    "len(train_pop)"
   ]
  },
  {
   "cell_type": "code",
   "execution_count": 62,
   "metadata": {},
   "outputs": [
    {
     "name": "stdout",
     "output_type": "stream",
     "text": [
      "Generated 0\n",
      "Generated 10\n",
      "Generated 20\n",
      "Generated 30\n",
      "Generated 40\n",
      "Generated 50\n",
      "Generated 60\n",
      "Generated 70\n",
      "Generated 80\n",
      "Generated 90\n",
      "Generated 100\n",
      "Generated 110\n",
      "Generated 120\n",
      "Generated 130\n",
      "Generated 140\n",
      "Generated 150\n",
      "Generated 160\n",
      "Generated 170\n",
      "Generated 180\n",
      "Generated 190\n"
     ]
    }
   ],
   "source": [
    "N = 200\n",
    "xidxs = np.random.choice(range(len(known_creatures)), N)\n",
    "X = [known_creatures[i] for i in xidxs]\n",
    "for i in range(N):\n",
    "    ev = generate_expected(train_pop, n_sub)\n",
    "    X.append(ev)\n",
    "    if i % 10 == 0:\n",
    "        print(\"Generated {}\".format(i))\n",
    "y = [True for i in range(N)] + [False for i in range(N)]\n",
    "X = np.array(X)\n",
    "y = np.array(y)\n",
    "X_train, X_test, y_train, y_test = train_test_split(X, y, test_size=1./3, random_state=820)"
   ]
  },
  {
   "cell_type": "code",
   "execution_count": 65,
   "metadata": {},
   "outputs": [
    {
     "data": {
      "image/png": "[encoded data removed]",
      "text/plain": [
       "<PIL.Image.Image image mode=RGBA size=96x96 at 0x1139E5C88>"
      ]
     },
     "execution_count": 65,
     "metadata": {},
     "output_type": "execute_result"
    }
   ],
   "source": [
    "phylo.unvectorize(X_train[0])"
   ]
  },
  {
   "cell_type": "code",
   "execution_count": 94,
   "metadata": {},
   "outputs": [
    {
     "name": "stdout",
     "output_type": "stream",
     "text": [
      "Mean Train Accuracy = 1.000\n",
      "Mean Test Accuracy = 0.933\n",
      "[False  True]\n"
     ]
    },
    {
     "data": {
      "text/plain": [
       "array([[-0.00597215, -0.00384264, -0.00421947, ..., -0.01168732,\n",
       "        -0.00681694, -0.00120973]])"
      ]
     },
     "execution_count": 94,
     "metadata": {},
     "output_type": "execute_result"
    }
   ],
   "source": [
    "clf = LogisticRegression(\n",
    "    random_state=0, solver=\"liblinear\", multi_class=\"ovr\", max_iter=200\n",
    ").fit(X_train, y_train)\n",
    "print(\"Mean Train Accuracy = {0:.3f}\".format(clf.score(X_train, y_train)))\n",
    "print(\"Mean Test Accuracy = {0:.3f}\".format(clf.score(X_test, y_test)))\n",
    "print(clf.classes_)\n",
    "w = clf.coef_\n",
    "w"
   ]
  },
  {
   "cell_type": "code",
   "execution_count": 104,
   "metadata": {},
   "outputs": [
    {
     "data": {
      "text/plain": [
       "<matplotlib.legend.Legend at 0x104535320>"
      ]
     },
     "execution_count": 104,
     "metadata": {},
     "output_type": "execute_result"
    },
    {
     "data": {
      "image/png": "[encoded data removed]",
      "text/plain": [
       "<Figure size 432x288 with 1 Axes>"
      ]
     },
     "metadata": {},
     "output_type": "display_data"
    }
   ],
   "source": [
    "def lf(s):   \n",
    "    return 1./(1 + np.exp(s))\n",
    "\n",
    "pf = lf\n",
    "pt = lambda x: 1-pf(x)\n",
    "\n",
    "xs = np.linspace(-4, 4, 1000)\n",
    "_, ax = plt.subplots()\n",
    "ax.plot(xs, [pt(np.dot(x, w).sum()) for x in xs], linewidth=2, label='P(True|x)')\n",
    "ax.axhline(y=0.5, color='k')\n",
    "ax.axvline(x=0, color='k')\n",
    "ax.legend()"
   ]
  },
  {
   "cell_type": "code",
   "execution_count": 105,
   "metadata": {},
   "outputs": [
    {
     "name": "stdout",
     "output_type": "stream",
     "text": [
      "P(F) = 0.001 P(T) = 0.999\n"
     ]
    },
    {
     "data": {
      "image/png": "[encoded data removed]",
      "text/plain": [
       "<PIL.Image.Image image mode=RGBA size=192x192 at 0x10452B0F0>"
      ]
     },
     "execution_count": 105,
     "metadata": {},
     "output_type": "execute_result"
    }
   ],
   "source": [
    "ev = generate_expected(X_test, n_sub)\n",
    "print(\"P(F) = {0:.3f} P(T) = {1:.3f}\".format(*clf.predict_proba([ev])[0]))\n",
    "phylo.scale_img(phylo.unvectorize(ev), 2)"
   ]
  },
  {
   "cell_type": "code",
   "execution_count": 183,
   "metadata": {},
   "outputs": [
    {
     "name": "stdout",
     "output_type": "stream",
     "text": [
      "P(F) = 0.690 P(T) = 0.310\n"
     ]
    },
    {
     "data": {
      "image/png": "[encoded data removed]",
      "text/plain": [
       "<PIL.Image.Image image mode=RGBA size=192x192 at 0x11D9CA400>"
      ]
     },
     "execution_count": 183,
     "metadata": {},
     "output_type": "execute_result"
    }
   ],
   "source": [
    "tv = X_test[0]\n",
    "print(\"P(F) = {0:.3f} P(T) = {1:.3f}\".format(*clf.predict_proba([tv])[0]))\n",
    "phylo.scale_img(phylo.unvectorize(tv), 2)"
   ]
  },
  {
   "cell_type": "code",
   "execution_count": 136,
   "metadata": {},
   "outputs": [
    {
     "data": {
      "text/html": [
       "<div>\n",
       "<style scoped>\n",
       "    .dataframe tbody tr th:only-of-type {\n",
       "        vertical-align: middle;\n",
       "    }\n",
       "\n",
       "    .dataframe tbody tr th {\n",
       "        vertical-align: top;\n",
       "    }\n",
       "\n",
       "    .dataframe thead th {\n",
       "        text-align: right;\n",
       "    }\n",
       "</style>\n",
       "<table border=\"1\" class=\"dataframe\">\n",
       "  <thead>\n",
       "    <tr style=\"text-align: right;\">\n",
       "      <th></th>\n",
       "      <th>x</th>\n",
       "      <th>pt</th>\n",
       "    </tr>\n",
       "  </thead>\n",
       "  <tbody>\n",
       "    <tr>\n",
       "      <th>52</th>\n",
       "      <td>[0, 1, 0, 0, 0, 1, 0, 0, 0, 0, 0, 1, 0, 0, 0, ...</td>\n",
       "      <td>0.724441</td>\n",
       "    </tr>\n",
       "    <tr>\n",
       "      <th>39</th>\n",
       "      <td>[0, 0, 0, 0, 0, 0, 0, 0, 0, 0, 0, 0, 0, 0, 0, ...</td>\n",
       "      <td>0.408736</td>\n",
       "    </tr>\n",
       "    <tr>\n",
       "      <th>22</th>\n",
       "      <td>[0, 0, 0, 0, 0, 0, 0, 1, 0, 0, 1, 0, 0, 1, 0, ...</td>\n",
       "      <td>0.265730</td>\n",
       "    </tr>\n",
       "    <tr>\n",
       "      <th>56</th>\n",
       "      <td>[0, 0, 0, 0, 0, 0, 0, 0, 0, 0, 0, 0, 0, 1, 0, ...</td>\n",
       "      <td>0.242465</td>\n",
       "    </tr>\n",
       "    <tr>\n",
       "      <th>29</th>\n",
       "      <td>[0, 0, 0, 0, 0, 0, 0, 0, 0, 0, 0, 0, 0, 0, 0, ...</td>\n",
       "      <td>0.187792</td>\n",
       "    </tr>\n",
       "  </tbody>\n",
       "</table>\n",
       "</div>"
      ],
      "text/plain": [
       "                                                    x        pt\n",
       "52  [0, 1, 0, 0, 0, 1, 0, 0, 0, 0, 0, 1, 0, 0, 0, ...  0.724441\n",
       "39  [0, 0, 0, 0, 0, 0, 0, 0, 0, 0, 0, 0, 0, 0, 0, ...  0.408736\n",
       "22  [0, 0, 0, 0, 0, 0, 0, 1, 0, 0, 1, 0, 0, 1, 0, ...  0.265730\n",
       "56  [0, 0, 0, 0, 0, 0, 0, 0, 0, 0, 0, 0, 0, 1, 0, ...  0.242465\n",
       "29  [0, 0, 0, 0, 0, 0, 0, 0, 0, 0, 0, 0, 0, 0, 0, ...  0.187792"
      ]
     },
     "execution_count": 136,
     "metadata": {},
     "output_type": "execute_result"
    }
   ],
   "source": [
    "actual_f = []\n",
    "for i, target in enumerate(y_test):\n",
    "    if not target:\n",
    "        xv = X_test[i]\n",
    "        actual_f.append(xv)\n",
    "vdf = pd.DataFrame()\n",
    "vdf[\"x\"] = actual_f\n",
    "vdf[\"pt\"] = clf.predict_proba(np.array(actual_f))[:,1]\n",
    "sdf = vdf.sort_values(by=\"pt\", ascending=False)\n",
    "sdf.head(5)"
   ]
  },
  {
   "cell_type": "code",
   "execution_count": 137,
   "metadata": {},
   "outputs": [
    {
     "name": "stdout",
     "output_type": "stream",
     "text": [
      "P(True) = 0.409\n"
     ]
    },
    {
     "data": {
      "image/png": "[encoded data removed]",
      "text/plain": [
       "<PIL.Image.Image image mode=RGBA size=192x192 at 0x1139E55C0>"
      ]
     },
     "execution_count": 137,
     "metadata": {},
     "output_type": "execute_result"
    }
   ],
   "source": [
    "idx = 39\n",
    "print(\"P(True) = {0:.3f}\".format(vdf[\"pt\"][idx]))\n",
    "phylo.scale_img(phylo.unvectorize(vdf[\"x\"][idx]), 2)"
   ]
  },
  {
   "cell_type": "code",
   "execution_count": 155,
   "metadata": {},
   "outputs": [],
   "source": [
    "t_cases = []\n",
    "f_cases = []\n",
    "for i, target in enumerate(y_train):\n",
    "    if target:\n",
    "        t_cases.append(X_train[i])\n",
    "    else:\n",
    "        f_cases.append(X_train[i])"
   ]
  },
  {
   "cell_type": "code",
   "execution_count": 175,
   "metadata": {
    "collapsed": true
   },
   "outputs": [],
   "source": [
    "def active_prop(xv):\n",
    "    max_active = phylo.M**2\n",
    "    active = sum(map(lambda x: 1 if x > 1 else 0, xv))\n",
    "    return active / max_active\n",
    "\n",
    "def centrality(xv):\n",
    "    w_sum = 0\n",
    "    cx = math.floor(phylo.M / 2)\n",
    "    cy = cx\n",
    "    for i in range(len(xv)):\n",
    "        q = xv[i]\n",
    "        y = math.floor(i / phylo.M)\n",
    "        x = i % phylo.M\n",
    "        sy = 1.0 - ((y - cy) / cy)\n",
    "        sx = 1.0 - ((x - cx) / cx)\n",
    "        v = q * sx * sy\n",
    "        w_sum += v\n",
    "    return w_sum"
   ]
  },
  {
   "cell_type": "code",
   "execution_count": 402,
   "metadata": {},
   "outputs": [
    {
     "name": "stderr",
     "output_type": "stream",
     "text": [
      "/anaconda/lib/python3.6/site-packages/scipy/stats/stats.py:1713: FutureWarning: Using a non-tuple sequence for multidimensional indexing is deprecated; use `arr[tuple(seq)]` instead of `arr[seq]`. In the future this will be interpreted as an array index, `arr[np.array(seq)]`, which will result either in an error or a different result.\n",
      "  return np.add.reduce(sorted[indexer] * weights, axis=axis) / sumval\n"
     ]
    },
    {
     "data": {
      "text/plain": [
       "<matplotlib.legend.Legend at 0x11eb02b00>"
      ]
     },
     "execution_count": 402,
     "metadata": {},
     "output_type": "execute_result"
    },
    {
     "data": {
      "image/png": "[encoded data removed]",
      "text/plain": [
       "<Figure size 432x288 with 1 Axes>"
      ]
     },
     "metadata": {},
     "output_type": "display_data"
    }
   ],
   "source": [
    "taps = [active_prop(x) for x in t_cases]\n",
    "faps = [active_prop(x) for x in f_cases]\n",
    "sns.distplot(taps, color=\"green\", label=\"Known Creatures\")\n",
    "sns.distplot(faps, color=\"red\", label=\"Expected Vectors\")\n",
    "plt.xlim(0, 1)\n",
    "plt.title(\"Active Proportion\")\n",
    "plt.legend()"
   ]
  },
  {
   "cell_type": "code",
   "execution_count": 401,
   "metadata": {},
   "outputs": [
    {
     "name": "stderr",
     "output_type": "stream",
     "text": [
      "/anaconda/lib/python3.6/site-packages/scipy/stats/stats.py:1713: FutureWarning: Using a non-tuple sequence for multidimensional indexing is deprecated; use `arr[tuple(seq)]` instead of `arr[seq]`. In the future this will be interpreted as an array index, `arr[np.array(seq)]`, which will result either in an error or a different result.\n",
      "  return np.add.reduce(sorted[indexer] * weights, axis=axis) / sumval\n"
     ]
    },
    {
     "data": {
      "text/plain": [
       "<matplotlib.legend.Legend at 0x11f3da550>"
      ]
     },
     "execution_count": 401,
     "metadata": {},
     "output_type": "execute_result"
    },
    {
     "data": {
      "image/png": "[encoded data removed]",
      "text/plain": [
       "<Figure size 432x288 with 1 Axes>"
      ]
     },
     "metadata": {},
     "output_type": "display_data"
    }
   ],
   "source": [
    "mid = math.floor(phylo.M**2 / 2)\n",
    "mx = math.floor(30**2 / 2)\n",
    "taps = [active_prop(x[mid-mx:mid+mx]) for x in t_cases]\n",
    "faps = [active_prop(x[mid-mx:mid+mx]) for x in f_cases]\n",
    "sns.distplot(taps, color=\"green\", label=\"Known Creatures\")\n",
    "sns.distplot(faps, color=\"red\", label=\"Expected Vectors\")\n",
    "plt.xlim(0, 1)\n",
    "plt.title(\"Active Proportion from {} to {}\".format(mid-mx, mid+mx))\n",
    "plt.legend()"
   ]
  },
  {
   "cell_type": "code",
   "execution_count": 405,
   "metadata": {},
   "outputs": [
    {
     "name": "stdout",
     "output_type": "stream",
     "text": [
      "P(False) = 0.039 P(True) = 0.961\n"
     ]
    },
    {
     "data": {
      "image/png": "[encoded data removed]",
      "text/plain": [
       "<PIL.Image.Image image mode=RGBA size=192x192 at 0x11F7EBEF0>"
      ]
     },
     "execution_count": 405,
     "metadata": {},
     "output_type": "execute_result"
    }
   ],
   "source": [
    "ev1 = generate_expected(X_test, n_sub, seed=40)\n",
    "print(\"P(False) = {0:.3f} P(True) = {1:.3f}\".format(*clf.predict_proba([ev1])[0]))\n",
    "phylo.scale_img(phylo.unvectorize(ev1), 2)"
   ]
  },
  {
   "cell_type": "code",
   "execution_count": 403,
   "metadata": {},
   "outputs": [
    {
     "name": "stdout",
     "output_type": "stream",
     "text": [
      "P(False) = 0.003 P(True) = 0.997\n"
     ]
    },
    {
     "data": {
      "image/png": "[encoded data removed]",
      "text/plain": [
       "<PIL.Image.Image image mode=RGBA size=192x192 at 0x11F17DB00>"
      ]
     },
     "execution_count": 403,
     "metadata": {},
     "output_type": "execute_result"
    }
   ],
   "source": [
    "ev2 = generate_expected(X_test, n_sub, seed=93)\n",
    "print(\"P(False) = {0:.3f} P(True) = {1:.3f}\".format(*clf.predict_proba([ev2])[0]))\n",
    "phylo.scale_img(phylo.unvectorize(ev2), 2)"
   ]
  },
  {
   "cell_type": "code",
   "execution_count": 404,
   "metadata": {},
   "outputs": [
    {
     "name": "stdout",
     "output_type": "stream",
     "text": [
      "P(False) = 0.563 P(True) = 0.437\n"
     ]
    },
    {
     "data": {
      "image/png": "[encoded data removed]",
      "text/plain": [
       "<PIL.Image.Image image mode=RGBA size=192x192 at 0x11EEA9E10>"
      ]
     },
     "execution_count": 404,
     "metadata": {},
     "output_type": "execute_result"
    }
   ],
   "source": [
    "ev3 = np.array(list(map(lambda x: x if x > 2 else 0, ev1 + ev2)))\n",
    "print(\"P(False) = {0:.3f} P(True) = {1:.3f}\".format(*clf.predict_proba([ev3])[0]))\n",
    "phylo.scale_img(phylo.unvectorize(ev3), 2)"
   ]
  },
  {
   "cell_type": "code",
   "execution_count": 215,
   "metadata": {},
   "outputs": [
    {
     "data": {
      "image/png": "[encoded data removed]",
      "text/plain": [
       "<PIL.Image.Image image mode=RGBA size=192x192 at 0x11E3E2F60>"
      ]
     },
     "execution_count": 215,
     "metadata": {},
     "output_type": "execute_result"
    }
   ],
   "source": [
    "ev_fp = vdf[\"x\"][idx]\n",
    "phylo.scale_img(phylo.unvectorize(map(lambda x: x + 1,ev_fp)), 2)"
   ]
  },
  {
   "cell_type": "code",
   "execution_count": 242,
   "metadata": {},
   "outputs": [
    {
     "data": {
      "image/png": "[encoded data removed]",
      "text/plain": [
       "<PIL.Image.Image image mode=RGBA size=192x192 at 0x11DE4C710>"
      ]
     },
     "execution_count": 242,
     "metadata": {},
     "output_type": "execute_result"
    }
   ],
   "source": [
    "phylo.scale_img(phylo.unvectorize(ev_fp), 2)"
   ]
  },
  {
   "cell_type": "code",
   "execution_count": 429,
   "metadata": {},
   "outputs": [],
   "source": [
    "def show_trans(im):\n",
    "    background = (238, 255, 188, 255)\n",
    "    pixels = np.array(im).reshape(phylo.M * phylo.M, phylo.C)\n",
    "    new_pix = [background if p[-1] == phylo.TRANSPARENT else p for p in pixels]\n",
    "    new_pix = np.array(np.uint8(new_pix)).reshape(phylo.M, phylo.M, phylo.C)\n",
    "    return Image.fromarray(new_pix, mode=phylo.MODE)\n",
    "    \n",
    "def in_im(x, y):\n",
    "    return x >= 0 and x < phylo.M and y >= 0 and y < phylo.M\n",
    "\n",
    "def neighbors4(x, y, r=1):\n",
    "    neigh = [(x - r, y), (x + r, y), (x, y - r), (x, y + r)]\n",
    "    neigh = list(filter(lambda t: in_im(*t), neigh))\n",
    "    return neigh\n",
    "\n",
    "def clean_fluff(xv):\n",
    "    r = 4\n",
    "    mat = xv.reshape(phylo.M, phylo.M)\n",
    "    out = np.uint8(np.zeros(phylo.M**2).reshape(phylo.M, phylo.M))\n",
    "    for y, row in enumerate(mat):\n",
    "        for x, cell in enumerate(row):\n",
    "            neigh = neighbors4(x, y, r)\n",
    "            n_vals = [mat[yn][xn] for xn, yn in neigh]\n",
    "            out[y][x] = cell\n",
    "            if max(n_vals) <= 1:\n",
    "                out[y][x] = 0\n",
    "    return out.reshape(phylo.M**2)\n",
    "\n",
    "def add_border(xv):\n",
    "    r = 4\n",
    "    mat = xv.reshape(phylo.M, phylo.M)\n",
    "    out = np.uint8(np.zeros(phylo.M**2).reshape(phylo.M, phylo.M))\n",
    "    for y, row in enumerate(mat):\n",
    "        for x, cell in enumerate(row):\n",
    "            neigh = neighbors4(x, y, r)\n",
    "            n_vals = [mat[yn][xn] for xn, yn in neigh]\n",
    "            out[y][x] = cell\n",
    "            if max(n_vals) <= 1:\n",
    "                out[y][x] = 0\n",
    "            if max(n_vals) == 2 and cell <= 1 and sum(n_vals) < 6:\n",
    "                out[y][x] = phylo.Q\n",
    "    return out.reshape(phylo.M**2)\n",
    "\n",
    "def neigh_map(xv):\n",
    "    r = 1\n",
    "    mat = xv.reshape(phylo.M, phylo.M)\n",
    "    out = np.uint8(np.zeros(phylo.M**2).reshape(phylo.M, phylo.M))\n",
    "    for y, row in enumerate(mat):\n",
    "        for x, cell in enumerate(row):\n",
    "            neigh = neighbors4(x, y, r)\n",
    "            n_vals = [mat[yn][xn] for xn, yn in neigh]\n",
    "            out[y][x] = max(n_vals)\n",
    "    return out.reshape(phylo.M**2)\n",
    "\n",
    "def easy_show(xv, scale=1, border=False):\n",
    "    vec = xv\n",
    "    if border:\n",
    "        vec = add_border(xv)\n",
    "    return phylo.scale_img(show_trans(phylo.unvectorize(vec)), scale)"
   ]
  },
  {
   "cell_type": "code",
   "execution_count": 387,
   "metadata": {},
   "outputs": [
    {
     "data": {
      "image/png": "[encoded data removed]",
      "text/plain": [
       "<PIL.Image.Image image mode=RGBA size=192x192 at 0x11EB02588>"
      ]
     },
     "execution_count": 387,
     "metadata": {},
     "output_type": "execute_result"
    }
   ],
   "source": [
    "ev_bord = add_border(ev_fp)\n",
    "phylo.scale_img(show_trans(phylo.unvectorize(ev_bord)), 2)"
   ]
  },
  {
   "cell_type": "code",
   "execution_count": 388,
   "metadata": {},
   "outputs": [
    {
     "data": {
      "image/png": "[encoded data removed]",
      "text/plain": [
       "<PIL.Image.Image image mode=RGBA size=192x192 at 0x11E98B2E8>"
      ]
     },
     "execution_count": 388,
     "metadata": {},
     "output_type": "execute_result"
    }
   ],
   "source": [
    "phylo.scale_img(show_trans(phylo.unvectorize((neigh_map(ev_fp)))), 2)"
   ]
  },
  {
   "cell_type": "code",
   "execution_count": 389,
   "metadata": {},
   "outputs": [
    {
     "name": "stdout",
     "output_type": "stream",
     "text": [
      "0\n",
      "10\n",
      "20\n",
      "30\n",
      "40\n",
      "Done.\n"
     ]
    }
   ],
   "source": [
    "false_pos = []\n",
    "for i in range(50):\n",
    "    if i % 10 == 0:\n",
    "        print(i)\n",
    "    ev = generate_expected(X_test, 50)\n",
    "    if clf.predict([ev])[0]:\n",
    "        false_pos.append(ev)\n",
    "print(\"Done.\")"
   ]
  },
  {
   "cell_type": "code",
   "execution_count": 359,
   "metadata": {},
   "outputs": [
    {
     "name": "stdout",
     "output_type": "stream",
     "text": [
      "50\n"
     ]
    },
    {
     "data": {
      "image/png": "[encoded data removed]",
      "text/plain": [
       "<PIL.Image.Image image mode=RGBA size=96x96 at 0x11ECF82E8>"
      ]
     },
     "execution_count": 359,
     "metadata": {},
     "output_type": "execute_result"
    }
   ],
   "source": [
    "print(len(false_pos))\n",
    "phylo.unvectorize(false_pos[0])"
   ]
  },
  {
   "cell_type": "code",
   "execution_count": 380,
   "metadata": {},
   "outputs": [],
   "source": [
    "for zoot in false_pos:\n",
    "    phylo.scale_img(show_trans(phylo.unvectorize(add_border(zoot))), 2).show()"
   ]
  },
  {
   "cell_type": "code",
   "execution_count": 379,
   "metadata": {},
   "outputs": [
    {
     "data": {
      "image/png": "[encoded data removed]",
      "text/plain": [
       "<PIL.Image.Image image mode=RGBA size=192x192 at 0x11E23A128>"
      ]
     },
     "execution_count": 379,
     "metadata": {},
     "output_type": "execute_result"
    }
   ],
   "source": [
    "phylo.scale_img(show_trans(phylo.unvectorize(add_border(false_pos[-1]))), 2)"
   ]
  },
  {
   "cell_type": "code",
   "execution_count": 390,
   "metadata": {},
   "outputs": [
    {
     "data": {
      "image/png": "[encoded data removed]",
      "text/plain": [
       "<PIL.Image.Image image mode=RGBA size=96x96 at 0x11E78BC88>"
      ]
     },
     "execution_count": 390,
     "metadata": {},
     "output_type": "execute_result"
    }
   ],
   "source": [
    "show_trans(phylo.unvectorize(clean_fluff(ev1)))"
   ]
  },
  {
   "cell_type": "code",
   "execution_count": 391,
   "metadata": {},
   "outputs": [
    {
     "data": {
      "image/png": "[encoded data removed]",
      "text/plain": [
       "<PIL.Image.Image image mode=RGBA size=96x96 at 0x11E8C14E0>"
      ]
     },
     "execution_count": 391,
     "metadata": {},
     "output_type": "execute_result"
    }
   ],
   "source": [
    "show_trans(phylo.unvectorize(clean_fluff(ev2)))"
   ]
  },
  {
   "cell_type": "code",
   "execution_count": 399,
   "metadata": {},
   "outputs": [
    {
     "data": {
      "image/png": "[encoded data removed]",
      "text/plain": [
       "<PIL.Image.Image image mode=RGBA size=192x192 at 0x11E7744A8>"
      ]
     },
     "execution_count": 399,
     "metadata": {},
     "output_type": "execute_result"
    }
   ],
   "source": [
    "easy_show(add_border(clean_fluff(ev1) + clean_fluff(ev2)), 2)"
   ]
  },
  {
   "cell_type": "code",
   "execution_count": 421,
   "metadata": {},
   "outputs": [
    {
     "data": {
      "image/png": "[encoded data removed]",
      "text/plain": [
       "<PIL.Image.Image image mode=RGBA size=96x96 at 0x11EDE9898>"
      ]
     },
     "execution_count": 421,
     "metadata": {},
     "output_type": "execute_result"
    }
   ],
   "source": [
    "easy_show(X_test[4])"
   ]
  },
  {
   "cell_type": "code",
   "execution_count": 422,
   "metadata": {},
   "outputs": [
    {
     "data": {
      "image/png": "[encoded data removed]",
      "text/plain": [
       "<PIL.Image.Image image mode=RGBA size=96x96 at 0x11F3E3EB8>"
      ]
     },
     "execution_count": 422,
     "metadata": {},
     "output_type": "execute_result"
    }
   ],
   "source": [
    "rsv = [phylo.generate_random() for i in range(5)]\n",
    "esv = expect_from_subsample(np.array([X_test[3], X_test[4], *rsv]))\n",
    "easy_show(clean_fluff(esv))"
   ]
  },
  {
   "cell_type": "code",
   "execution_count": 423,
   "metadata": {},
   "outputs": [
    {
     "data": {
      "text/plain": [
       "array([7880.,  257.,  387.,  353.,  339.])"
      ]
     },
     "execution_count": 423,
     "metadata": {},
     "output_type": "execute_result"
    }
   ],
   "source": [
    "col_counts(X_test[4])"
   ]
  },
  {
   "cell_type": "code",
   "execution_count": 424,
   "metadata": {},
   "outputs": [
    {
     "data": {
      "text/plain": [
       "array([1834., 1827., 1836., 1844., 1875.])"
      ]
     },
     "execution_count": 424,
     "metadata": {},
     "output_type": "execute_result"
    }
   ],
   "source": [
    "col_counts(rsv[0])"
   ]
  },
  {
   "cell_type": "code",
   "execution_count": 444,
   "metadata": {},
   "outputs": [],
   "source": [
    "def make_border_hist(i, X, y):\n",
    "    if not y[i]:\n",
    "        return col_counts(add_border(X[i]))\n",
    "    else:\n",
    "        return col_counts(X[i])\n",
    "    \n",
    "X_hist_train = np.array([make_border_hist(i, X_train, y_train) for i in range(len(X_train))])\n",
    "X_hist_test = np.array([make_border_hist(i, X_test, y_test) for i in range(len(X_test))])"
   ]
  },
  {
   "cell_type": "code",
   "execution_count": 449,
   "metadata": {},
   "outputs": [
    {
     "name": "stdout",
     "output_type": "stream",
     "text": [
      "Mean Train Accuracy = 1.000\n",
      "Mean Test Accuracy = 0.993\n",
      "[False  True]\n"
     ]
    }
   ],
   "source": [
    "hist_model = LogisticRegression(\n",
    "    random_state=0, solver=\"lbfgs\", multi_class=\"multinomial\", max_iter=200\n",
    ").fit(X_hist_train, y_train)\n",
    "print(\"Mean Train Accuracy = {0:.3f}\".format(hist_model.score(X_hist_train, y_train)))\n",
    "print(\"Mean Test Accuracy = {0:.3f}\".format(hist_model.score(X_hist_test, y_test)))\n",
    "print(hist_model.classes_)"
   ]
  },
  {
   "cell_type": "code",
   "execution_count": 450,
   "metadata": {},
   "outputs": [
    {
     "data": {
      "text/plain": [
       "array([[ 0.00032299, -0.00203453, -0.00280481,  0.0932072 , -0.02334179]])"
      ]
     },
     "execution_count": 450,
     "metadata": {},
     "output_type": "execute_result"
    }
   ],
   "source": [
    "hist_model.coef_"
   ]
  },
  {
   "cell_type": "code",
   "execution_count": 451,
   "metadata": {},
   "outputs": [
    {
     "data": {
      "image/png": "[encoded data removed]",
      "text/plain": [
       "<PIL.Image.Image image mode=RGBA size=192x192 at 0x11EE8EEB8>"
      ]
     },
     "execution_count": 451,
     "metadata": {},
     "output_type": "execute_result"
    }
   ],
   "source": [
    "easy_show(ev_fp, border=True, scale=2)"
   ]
  },
  {
   "cell_type": "code",
   "execution_count": 452,
   "metadata": {},
   "outputs": [
    {
     "data": {
      "text/plain": [
       "array([[9.99996681e-01, 3.31886991e-06]])"
      ]
     },
     "execution_count": 452,
     "metadata": {},
     "output_type": "execute_result"
    }
   ],
   "source": [
    "hist_model.predict_proba([col_counts(ev_fp)])"
   ]
  },
  {
   "cell_type": "code",
   "execution_count": 477,
   "metadata": {},
   "outputs": [
    {
     "data": {
      "text/plain": [
       "1"
      ]
     },
     "execution_count": 477,
     "metadata": {},
     "output_type": "execute_result"
    }
   ],
   "source": [
    "hist_fps = []\n",
    "hist_pred = hist_model.predict(X_hist_test)\n",
    "for i, hp in enumerate(hist_pred):\n",
    "    if hp and (not y_test[i]) or (not hp and (y_test[i])):\n",
    "        hist_fps.append((i, X_hist_test[i], y_test[i]))\n",
    "len(hist_fps)"
   ]
  },
  {
   "cell_type": "code",
   "execution_count": 478,
   "metadata": {},
   "outputs": [
    {
     "data": {
      "text/plain": [
       "(15, array([7369.,  159.,  292.,   60., 1336.]), True)"
      ]
     },
     "execution_count": 478,
     "metadata": {},
     "output_type": "execute_result"
    }
   ],
   "source": [
    "hist_fps[0]"
   ]
  },
  {
   "cell_type": "code",
   "execution_count": 481,
   "metadata": {},
   "outputs": [
    {
     "data": {
      "image/png": "[encoded data removed]",
      "text/plain": [
       "<PIL.Image.Image image mode=RGBA size=96x96 at 0x11F7FD128>"
      ]
     },
     "execution_count": 481,
     "metadata": {},
     "output_type": "execute_result"
    }
   ],
   "source": [
    "easy_show(X_train[hist_fps[0][0]], border=True)"
   ]
  },
  {
   "cell_type": "code",
   "execution_count": 488,
   "metadata": {},
   "outputs": [
    {
     "data": {
      "text/plain": [
       "[array([1, 0, 0, ..., 0, 0, 0]),\n",
       " array([1, 0, 0, ..., 1, 1, 1]),\n",
       " array([0, 1, 0, ..., 0, 0, 1]),\n",
       " array([1, 1, 1, ..., 1, 1, 1]),\n",
       " array([1, 1, 0, ..., 1, 1, 1]),\n",
       " array([0, 1, 0, ..., 1, 0, 0]),\n",
       " array([1, 1, 1, ..., 1, 0, 1]),\n",
       " array([0, 0, 0, ..., 1, 0, 0]),\n",
       " array([0, 1, 0, ..., 1, 0, 0]),\n",
       " array([1, 1, 1, ..., 1, 1, 1])]"
      ]
     },
     "execution_count": 488,
     "metadata": {},
     "output_type": "execute_result"
    }
   ],
   "source": [
    "nevs = [generate_expected(train_pop, n_sub) for i in range(10)]\n",
    "nevs"
   ]
  },
  {
   "cell_type": "code",
   "execution_count": 490,
   "metadata": {},
   "outputs": [
    {
     "data": {
      "image/png": "[encoded data removed]",
      "text/plain": [
       "<PIL.Image.Image image mode=RGBA size=96x96 at 0x11EBA45F8>"
      ]
     },
     "execution_count": 490,
     "metadata": {},
     "output_type": "execute_result"
    }
   ],
   "source": [
    "easy_show(nevs[0], border=True)"
   ]
  },
  {
   "cell_type": "code",
   "execution_count": 493,
   "metadata": {},
   "outputs": [
    {
     "data": {
      "image/png": "[encoded data removed]",
      "text/plain": [
       "<PIL.Image.Image image mode=RGBA size=96x96 at 0x11EDFEB38>"
      ]
     },
     "execution_count": 493,
     "metadata": {},
     "output_type": "execute_result"
    }
   ],
   "source": [
    "easy_show(nevs[3], border=True)"
   ]
  },
  {
   "cell_type": "code",
   "execution_count": 494,
   "metadata": {},
   "outputs": [
    {
     "data": {
      "text/plain": [
       "array([False, False, False, False, False, False, False, False, False,\n",
       "       False])"
      ]
     },
     "execution_count": 494,
     "metadata": {},
     "output_type": "execute_result"
    }
   ],
   "source": [
    "hist_model.predict([col_counts(add_border(nv)) for nv in nevs])"
   ]
  },
  {
   "cell_type": "code",
   "execution_count": null,
   "metadata": {
    "collapsed": true
   },
   "outputs": [],
   "source": []
  }
 ],
 "metadata": {
  "kernelspec": {
   "display_name": "Python 3",
   "language": "python",
   "name": "python3"
  },
  "language_info": {
   "codemirror_mode": {
    "name": "ipython",
    "version": 3
   },
   "file_extension": ".py",
   "mimetype": "text/x-python",
   "name": "python",
   "nbconvert_exporter": "python",
   "pygments_lexer": "ipython3",
   "version": "3.6.1"
  },
  "varInspector": {
   "cols": {
    "lenName": 16,
    "lenType": 16,
    "lenVar": 40
   },
   "kernels_config": {
    "python": {
     "delete_cmd_postfix": "",
     "delete_cmd_prefix": "del ",
     "library": "var_list.py",
     "varRefreshCmd": "print(var_dic_list())"
    },
    "r": {
     "delete_cmd_postfix": ") ",
     "delete_cmd_prefix": "rm(",
     "library": "var_list.r",
     "varRefreshCmd": "cat(var_dic_list()) "
    }
   },
   "types_to_exclude": [
    "module",
    "function",
    "builtin_function_or_method",
    "instance",
    "_Feature"
   ],
   "window_display": false
  }
 },
 "nbformat": 4,
 "nbformat_minor": 2
}
