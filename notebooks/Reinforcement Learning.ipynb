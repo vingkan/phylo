{
 "cells": [
  {
   "cell_type": "code",
   "execution_count": 1,
   "metadata": {
    "collapsed": true
   },
   "outputs": [],
   "source": [
    "import numpy as np\n",
    "import pandas as pd\n",
    "import scipy\n",
    "import imageio\n",
    "import math\n",
    "import phylo\n",
    "\n",
    "from PIL import Image\n",
    "from sklearn.linear_model import LogisticRegression\n",
    "from sklearn.model_selection import train_test_split\n",
    "\n",
    "%matplotlib inline\n",
    "import matplotlib.pyplot as plt\n",
    "import seaborn as sns\n",
    "sns.set(style=\"ticks\")\n",
    "plt.style.use(\"seaborn-whitegrid\")"
   ]
  },
  {
   "cell_type": "code",
   "execution_count": 2,
   "metadata": {
    "collapsed": true
   },
   "outputs": [],
   "source": [
    "%load_ext blackcellmagic"
   ]
  },
  {
   "cell_type": "code",
   "execution_count": 3,
   "metadata": {},
   "outputs": [
    {
     "name": "stdout",
     "output_type": "stream",
     "text": [
      "Vectorizing pokemon from /Users/vineshkannan/Documents/GitHub/phylo/images/regular/\n",
      "Vector iteration 0\n",
      "Vector iteration 100\n",
      "Vector iteration 200\n",
      "Vector iteration 300\n",
      "Vector iteration 400\n",
      "Vector iteration 500\n",
      "Vector iteration 600\n",
      "Done vectorizing\n",
      "Vectorizing pokemon from /Users/vineshkannan/Documents/GitHub/phylo/images/shiny/\n",
      "Vector iteration 0\n",
      "Vector iteration 100\n",
      "Vector iteration 200\n",
      "Vector iteration 300\n",
      "Vector iteration 400\n",
      "Vector iteration 500\n",
      "Vector iteration 600\n",
      "Done vectorizing\n"
     ]
    }
   ],
   "source": [
    "np.random.seed(820)\n",
    "REGULAR_POKEMON = phylo.vectorize_pokemon(phylo.REGULAR_POKEMON_PATH)\n",
    "SHINY_POKEMON = phylo.vectorize_pokemon(phylo.SHINY_POKEMON_PATH)"
   ]
  },
  {
   "cell_type": "code",
   "execution_count": 4,
   "metadata": {},
   "outputs": [
    {
     "data": {
      "image/png": "[encoded data removed]",
      "text/plain": [
       "<PIL.Image.Image image mode=RGBA size=96x96 at 0x10B45ACF8>"
      ]
     },
     "execution_count": 4,
     "metadata": {},
     "output_type": "execute_result"
    }
   ],
   "source": [
    "known_creatures = list(REGULAR_POKEMON) + list(SHINY_POKEMON)\n",
    "np.random.shuffle(known_creatures)\n",
    "phylo.unvectorize(known_creatures[0])"
   ]
  },
  {
   "cell_type": "code",
   "execution_count": 54,
   "metadata": {},
   "outputs": [],
   "source": [
    "def col_freq(col):\n",
    "    buckets = np.zeros(phylo.Q + 1)\n",
    "    for x in col:\n",
    "        buckets[x] += 1\n",
    "    freq = buckets / buckets.sum()\n",
    "    return freq\n",
    "\n",
    "def col_exp(col):\n",
    "    freq = col_freq(col)\n",
    "    expt = np.dot(freq, np.array(range(phylo.Q + 1))).sum()\n",
    "    return expt\n",
    "\n",
    "def draw_val(col):\n",
    "    expt = col_exp(col)\n",
    "    return math.floor(expt)\n",
    "\n",
    "def generate_expected(train_pop, n_sub):\n",
    "    idxs = list(np.random.choice(range(len(train_pop)), n_sub))\n",
    "    subsample = np.array([train_pop[i] for i in idxs])\n",
    "    ev = np.array([draw_val(subsample[:,j]) for j in range(phylo.M**2)])\n",
    "    return ev"
   ]
  },
  {
   "cell_type": "code",
   "execution_count": 55,
   "metadata": {},
   "outputs": [
    {
     "data": {
      "text/plain": [
       "2596"
      ]
     },
     "execution_count": 55,
     "metadata": {},
     "output_type": "execute_result"
    }
   ],
   "source": [
    "n_sub = 50\n",
    "train_pop = known_creatures + [phylo.generate_random() for i in range(len(known_creatures))]\n",
    "np.random.shuffle(train_pop)\n",
    "len(train_pop)"
   ]
  },
  {
   "cell_type": "code",
   "execution_count": 62,
   "metadata": {},
   "outputs": [
    {
     "name": "stdout",
     "output_type": "stream",
     "text": [
      "Generated 0\n",
      "Generated 10\n",
      "Generated 20\n",
      "Generated 30\n",
      "Generated 40\n",
      "Generated 50\n",
      "Generated 60\n",
      "Generated 70\n",
      "Generated 80\n",
      "Generated 90\n",
      "Generated 100\n",
      "Generated 110\n",
      "Generated 120\n",
      "Generated 130\n",
      "Generated 140\n",
      "Generated 150\n",
      "Generated 160\n",
      "Generated 170\n",
      "Generated 180\n",
      "Generated 190\n"
     ]
    }
   ],
   "source": [
    "N = 200\n",
    "xidxs = np.random.choice(range(len(known_creatures)), N)\n",
    "X = [known_creatures[i] for i in xidxs]\n",
    "for i in range(N):\n",
    "    ev = generate_expected(train_pop, n_sub)\n",
    "    X.append(ev)\n",
    "    if i % 10 == 0:\n",
    "        print(\"Generated {}\".format(i))\n",
    "y = [True for i in range(N)] + [False for i in range(N)]\n",
    "X = np.array(X)\n",
    "y = np.array(y)\n",
    "X_train, X_test, y_train, y_test = train_test_split(X, y, test_size=1./3, random_state=820)"
   ]
  },
  {
   "cell_type": "code",
   "execution_count": 65,
   "metadata": {},
   "outputs": [
    {
     "data": {
      "image/png": "[encoded data removed]",
      "text/plain": [
       "<PIL.Image.Image image mode=RGBA size=96x96 at 0x1139E5C88>"
      ]
     },
     "execution_count": 65,
     "metadata": {},
     "output_type": "execute_result"
    }
   ],
   "source": [
    "phylo.unvectorize(X_train[0])"
   ]
  },
  {
   "cell_type": "code",
   "execution_count": 94,
   "metadata": {},
   "outputs": [
    {
     "name": "stdout",
     "output_type": "stream",
     "text": [
      "Mean Train Accuracy = 1.000\n",
      "Mean Test Accuracy = 0.933\n",
      "[False  True]\n"
     ]
    },
    {
     "data": {
      "text/plain": [
       "array([[-0.00597215, -0.00384264, -0.00421947, ..., -0.01168732,\n",
       "        -0.00681694, -0.00120973]])"
      ]
     },
     "execution_count": 94,
     "metadata": {},
     "output_type": "execute_result"
    }
   ],
   "source": [
    "clf = LogisticRegression(\n",
    "    random_state=0, solver=\"liblinear\", multi_class=\"ovr\", max_iter=200\n",
    ").fit(X_train, y_train)\n",
    "print(\"Mean Train Accuracy = {0:.3f}\".format(clf.score(X_train, y_train)))\n",
    "print(\"Mean Test Accuracy = {0:.3f}\".format(clf.score(X_test, y_test)))\n",
    "print(clf.classes_)\n",
    "w = clf.coef_\n",
    "w"
   ]
  },
  {
   "cell_type": "code",
   "execution_count": 104,
   "metadata": {},
   "outputs": [
    {
     "data": {
      "text/plain": [
       "<matplotlib.legend.Legend at 0x104535320>"
      ]
     },
     "execution_count": 104,
     "metadata": {},
     "output_type": "execute_result"
    },
    {
     "data": {
      "image/png": "[encoded data removed]",
      "text/plain": [
       "<Figure size 432x288 with 1 Axes>"
      ]
     },
     "metadata": {},
     "output_type": "display_data"
    }
   ],
   "source": [
    "def lf(s):   \n",
    "    return 1./(1 + np.exp(s))\n",
    "\n",
    "pf = lf\n",
    "pt = lambda x: 1-pf(x)\n",
    "\n",
    "xs = np.linspace(-4, 4, 1000)\n",
    "_, ax = plt.subplots()\n",
    "ax.plot(xs, [pt(np.dot(x, w).sum()) for x in xs], linewidth=2, label='P(True|x)')\n",
    "ax.axhline(y=0.5, color='k')\n",
    "ax.axvline(x=0, color='k')\n",
    "ax.legend()"
   ]
  },
  {
   "cell_type": "code",
   "execution_count": 105,
   "metadata": {},
   "outputs": [
    {
     "name": "stdout",
     "output_type": "stream",
     "text": [
      "P(F) = 0.001 P(T) = 0.999\n"
     ]
    },
    {
     "data": {
      "image/png": "[encoded data removed]",
      "text/plain": [
       "<PIL.Image.Image image mode=RGBA size=192x192 at 0x10452B0F0>"
      ]
     },
     "execution_count": 105,
     "metadata": {},
     "output_type": "execute_result"
    }
   ],
   "source": [
    "ev = generate_expected(X_test, n_sub)\n",
    "print(\"P(F) = {0:.3f} P(T) = {1:.3f}\".format(*clf.predict_proba([ev])[0]))\n",
    "phylo.scale_img(phylo.unvectorize(ev), 2)"
   ]
  },
  {
   "cell_type": "code",
   "execution_count": 183,
   "metadata": {},
   "outputs": [
    {
     "name": "stdout",
     "output_type": "stream",
     "text": [
      "P(F) = 0.690 P(T) = 0.310\n"
     ]
    },
    {
     "data": {
      "image/png": "[encoded data removed]",
      "text/plain": [
       "<PIL.Image.Image image mode=RGBA size=192x192 at 0x11D9CA400>"
      ]
     },
     "execution_count": 183,
     "metadata": {},
     "output_type": "execute_result"
    }
   ],
   "source": [
    "tv = X_test[0]\n",
    "print(\"P(F) = {0:.3f} P(T) = {1:.3f}\".format(*clf.predict_proba([tv])[0]))\n",
    "phylo.scale_img(phylo.unvectorize(tv), 2)"
   ]
  },
  {
   "cell_type": "code",
   "execution_count": 136,
   "metadata": {},
   "outputs": [
    {
     "data": {
      "text/html": [
       "<div>\n",
       "<style scoped>\n",
       "    .dataframe tbody tr th:only-of-type {\n",
       "        vertical-align: middle;\n",
       "    }\n",
       "\n",
       "    .dataframe tbody tr th {\n",
       "        vertical-align: top;\n",
       "    }\n",
       "\n",
       "    .dataframe thead th {\n",
       "        text-align: right;\n",
       "    }\n",
       "</style>\n",
       "<table border=\"1\" class=\"dataframe\">\n",
       "  <thead>\n",
       "    <tr style=\"text-align: right;\">\n",
       "      <th></th>\n",
       "      <th>x</th>\n",
       "      <th>pt</th>\n",
       "    </tr>\n",
       "  </thead>\n",
       "  <tbody>\n",
       "    <tr>\n",
       "      <th>52</th>\n",
       "      <td>[0, 1, 0, 0, 0, 1, 0, 0, 0, 0, 0, 1, 0, 0, 0, ...</td>\n",
       "      <td>0.724441</td>\n",
       "    </tr>\n",
       "    <tr>\n",
       "      <th>39</th>\n",
       "      <td>[0, 0, 0, 0, 0, 0, 0, 0, 0, 0, 0, 0, 0, 0, 0, ...</td>\n",
       "      <td>0.408736</td>\n",
       "    </tr>\n",
       "    <tr>\n",
       "      <th>22</th>\n",
       "      <td>[0, 0, 0, 0, 0, 0, 0, 1, 0, 0, 1, 0, 0, 1, 0, ...</td>\n",
       "      <td>0.265730</td>\n",
       "    </tr>\n",
       "    <tr>\n",
       "      <th>56</th>\n",
       "      <td>[0, 0, 0, 0, 0, 0, 0, 0, 0, 0, 0, 0, 0, 1, 0, ...</td>\n",
       "      <td>0.242465</td>\n",
       "    </tr>\n",
       "    <tr>\n",
       "      <th>29</th>\n",
       "      <td>[0, 0, 0, 0, 0, 0, 0, 0, 0, 0, 0, 0, 0, 0, 0, ...</td>\n",
       "      <td>0.187792</td>\n",
       "    </tr>\n",
       "  </tbody>\n",
       "</table>\n",
       "</div>"
      ],
      "text/plain": [
       "                                                    x        pt\n",
       "52  [0, 1, 0, 0, 0, 1, 0, 0, 0, 0, 0, 1, 0, 0, 0, ...  0.724441\n",
       "39  [0, 0, 0, 0, 0, 0, 0, 0, 0, 0, 0, 0, 0, 0, 0, ...  0.408736\n",
       "22  [0, 0, 0, 0, 0, 0, 0, 1, 0, 0, 1, 0, 0, 1, 0, ...  0.265730\n",
       "56  [0, 0, 0, 0, 0, 0, 0, 0, 0, 0, 0, 0, 0, 1, 0, ...  0.242465\n",
       "29  [0, 0, 0, 0, 0, 0, 0, 0, 0, 0, 0, 0, 0, 0, 0, ...  0.187792"
      ]
     },
     "execution_count": 136,
     "metadata": {},
     "output_type": "execute_result"
    }
   ],
   "source": [
    "actual_f = []\n",
    "for i, target in enumerate(y_test):\n",
    "    if not target:\n",
    "        xv = X_test[i]\n",
    "        actual_f.append(xv)\n",
    "vdf = pd.DataFrame()\n",
    "vdf[\"x\"] = actual_f\n",
    "vdf[\"pt\"] = clf.predict_proba(np.array(actual_f))[:,1]\n",
    "sdf = vdf.sort_values(by=\"pt\", ascending=False)\n",
    "sdf.head(5)"
   ]
  },
  {
   "cell_type": "code",
   "execution_count": 137,
   "metadata": {},
   "outputs": [
    {
     "name": "stdout",
     "output_type": "stream",
     "text": [
      "P(True) = 0.409\n"
     ]
    },
    {
     "data": {
      "image/png": "[encoded data removed]",
      "text/plain": [
       "<PIL.Image.Image image mode=RGBA size=192x192 at 0x1139E55C0>"
      ]
     },
     "execution_count": 137,
     "metadata": {},
     "output_type": "execute_result"
    }
   ],
   "source": [
    "idx = 39\n",
    "print(\"P(True) = {0:.3f}\".format(vdf[\"pt\"][idx]))\n",
    "phylo.scale_img(phylo.unvectorize(vdf[\"x\"][idx]), 2)"
   ]
  },
  {
   "cell_type": "code",
   "execution_count": 155,
   "metadata": {},
   "outputs": [],
   "source": [
    "t_cases = []\n",
    "f_cases = []\n",
    "for i, target in enumerate(y_train):\n",
    "    if target:\n",
    "        t_cases.append(X_train[i])\n",
    "    else:\n",
    "        f_cases.append(X_train[i])"
   ]
  },
  {
   "cell_type": "code",
   "execution_count": 175,
   "metadata": {
    "collapsed": true
   },
   "outputs": [],
   "source": [
    "def active_prop(xv):\n",
    "    max_active = phylo.M**2\n",
    "    active = sum(map(lambda x: 1 if x > 1 else 0, xv))\n",
    "    return active / max_active\n",
    "\n",
    "def centrality(xv):\n",
    "    w_sum = 0\n",
    "    cx = math.floor(phylo.M / 2)\n",
    "    cy = cx\n",
    "    for i in range(len(xv)):\n",
    "        q = xv[i]\n",
    "        y = math.floor(i / phylo.M)\n",
    "        x = i % phylo.M\n",
    "        sy = 1.0 - ((y - cy) / cy)\n",
    "        sx = 1.0 - ((x - cx) / cx)\n",
    "        v = q * sx * sy\n",
    "        w_sum += v\n",
    "    return w_sum"
   ]
  },
  {
   "cell_type": "code",
   "execution_count": 190,
   "metadata": {},
   "outputs": [
    {
     "name": "stderr",
     "output_type": "stream",
     "text": [
      "/anaconda/lib/python3.6/site-packages/scipy/stats/stats.py:1713: FutureWarning: Using a non-tuple sequence for multidimensional indexing is deprecated; use `arr[tuple(seq)]` instead of `arr[seq]`. In the future this will be interpreted as an array index, `arr[np.array(seq)]`, which will result either in an error or a different result.\n",
      "  return np.add.reduce(sorted[indexer] * weights, axis=axis) / sumval\n"
     ]
    },
    {
     "data": {
      "text/plain": [
       "<matplotlib.legend.Legend at 0x11e83f1d0>"
      ]
     },
     "execution_count": 190,
     "metadata": {},
     "output_type": "execute_result"
    },
    {
     "data": {
      "image/png": "[encoded data removed]",
      "text/plain": [
       "<Figure size 432x288 with 1 Axes>"
      ]
     },
     "metadata": {},
     "output_type": "display_data"
    }
   ],
   "source": [
    "taps = [active_prop(x) for x in t_cases]\n",
    "faps = [active_prop(x) for x in f_cases]\n",
    "sns.distplot(taps, color=\"green\", label=\"Known Creatures\")\n",
    "sns.distplot(faps, color=\"red\", label=\"Expected Vectors\")\n",
    "plt.xlim(0, 1)\n",
    "plt.title(\"Active Proportion\")\n",
    "plt.legend()"
   ]
  },
  {
   "cell_type": "code",
   "execution_count": 191,
   "metadata": {},
   "outputs": [
    {
     "name": "stderr",
     "output_type": "stream",
     "text": [
      "/anaconda/lib/python3.6/site-packages/scipy/stats/stats.py:1713: FutureWarning: Using a non-tuple sequence for multidimensional indexing is deprecated; use `arr[tuple(seq)]` instead of `arr[seq]`. In the future this will be interpreted as an array index, `arr[np.array(seq)]`, which will result either in an error or a different result.\n",
      "  return np.add.reduce(sorted[indexer] * weights, axis=axis) / sumval\n"
     ]
    },
    {
     "data": {
      "text/plain": [
       "<matplotlib.legend.Legend at 0x11e9f8668>"
      ]
     },
     "execution_count": 191,
     "metadata": {},
     "output_type": "execute_result"
    },
    {
     "data": {
      "image/png": "[encoded data removed]",
      "text/plain": [
       "<Figure size 432x288 with 1 Axes>"
      ]
     },
     "metadata": {},
     "output_type": "display_data"
    }
   ],
   "source": [
    "mid = math.floor(phylo.M**2 / 2)\n",
    "mx = math.floor(30**2 / 2)\n",
    "taps = [active_prop(x[mid-mx:mid+mx]) for x in t_cases]\n",
    "faps = [active_prop(x[mid-mx:mid+mx]) for x in f_cases]\n",
    "sns.distplot(taps, color=\"green\", label=\"Known Creatures\")\n",
    "sns.distplot(faps, color=\"red\", label=\"Expected Vectors\")\n",
    "plt.xlim(0, 1)\n",
    "plt.title(\"Active Proportion from {} to {}\".format(mid-mx, mid+mx))\n",
    "plt.legend()"
   ]
  },
  {
   "cell_type": "code",
   "execution_count": null,
   "metadata": {
    "collapsed": true
   },
   "outputs": [],
   "source": []
  }
 ],
 "metadata": {
  "kernelspec": {
   "display_name": "Python 3",
   "language": "python",
   "name": "python3"
  },
  "language_info": {
   "codemirror_mode": {
    "name": "ipython",
    "version": 3
   },
   "file_extension": ".py",
   "mimetype": "text/x-python",
   "name": "python",
   "nbconvert_exporter": "python",
   "pygments_lexer": "ipython3",
   "version": "3.6.1"
  },
  "varInspector": {
   "cols": {
    "lenName": 16,
    "lenType": 16,
    "lenVar": 40
   },
   "kernels_config": {
    "python": {
     "delete_cmd_postfix": "",
     "delete_cmd_prefix": "del ",
     "library": "var_list.py",
     "varRefreshCmd": "print(var_dic_list())"
    },
    "r": {
     "delete_cmd_postfix": ") ",
     "delete_cmd_prefix": "rm(",
     "library": "var_list.r",
     "varRefreshCmd": "cat(var_dic_list()) "
    }
   },
   "types_to_exclude": [
    "module",
    "function",
    "builtin_function_or_method",
    "instance",
    "_Feature"
   ],
   "window_display": false
  }
 },
 "nbformat": 4,
 "nbformat_minor": 2
}
