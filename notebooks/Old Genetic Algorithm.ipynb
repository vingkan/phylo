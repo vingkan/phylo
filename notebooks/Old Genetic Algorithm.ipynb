{
 "cells": [
  {
   "cell_type": "code",
   "execution_count": 1,
   "metadata": {
    "collapsed": true
   },
   "outputs": [],
   "source": [
    "import numpy as np\n",
    "import pandas as pd\n",
    "import scipy\n",
    "import imageio\n",
    "import math\n",
    "import phylo\n",
    "\n",
    "from PIL import Image\n",
    "from sklearn.linear_model import LogisticRegression\n",
    "\n",
    "%matplotlib inline\n",
    "import matplotlib.pyplot as plt\n",
    "import seaborn as sns\n",
    "sns.set(style=\"ticks\")\n",
    "plt.style.use(\"seaborn-whitegrid\")"
   ]
  },
  {
   "cell_type": "code",
   "execution_count": 2,
   "metadata": {
    "collapsed": true
   },
   "outputs": [],
   "source": [
    "%load_ext blackcellmagic"
   ]
  },
  {
   "cell_type": "code",
   "execution_count": 4,
   "metadata": {},
   "outputs": [
    {
     "name": "stdout",
     "output_type": "stream",
     "text": [
      "Vectorizing pokemon from /Users/vineshkannan/Documents/GitHub/phylo/images/regular/\n",
      "Vector iteration 0\n",
      "Vector iteration 100\n",
      "Vector iteration 200\n",
      "Vector iteration 300\n",
      "Vector iteration 400\n",
      "Vector iteration 500\n",
      "Vector iteration 600\n",
      "Done vectorizing\n"
     ]
    }
   ],
   "source": [
    "REGULAR_POKEMON = phylo.vectorize_pokemon(phylo.REGULAR_POKEMON_PATH)\n",
    "#SHINY_POKEMON = phylo.vectorize_pokemon(phylo.SHINY_POKEMON_PATH)"
   ]
  },
  {
   "cell_type": "code",
   "execution_count": 5,
   "metadata": {},
   "outputs": [
    {
     "data": {
      "image/png": "[encoded data removed]",
      "text/plain": [
       "<PIL.Image.Image image mode=RGBA size=96x96 at 0x11B194748>"
      ]
     },
     "execution_count": 5,
     "metadata": {},
     "output_type": "execute_result"
    }
   ],
   "source": [
    "known_creatures = REGULAR_POKEMON[400:500]\n",
    "phylo.unvectorize(known_creatures[0])"
   ]
  },
  {
   "cell_type": "code",
   "execution_count": 6,
   "metadata": {},
   "outputs": [
    {
     "name": "stdout",
     "output_type": "stream",
     "text": [
      "Mean Accuracy = 1.000\n",
      "[False  True]\n"
     ]
    },
    {
     "data": {
      "text/plain": [
       "array([[-0.00118118, -0.0012504 , -0.00132023, ..., -0.00131051,\n",
       "        -0.00116793, -0.00114431]])"
      ]
     },
     "execution_count": 6,
     "metadata": {},
     "output_type": "execute_result"
    }
   ],
   "source": [
    "np.random.seed(42)\n",
    "AF = len(known_creatures)\n",
    "AT = len(known_creatures)\n",
    "at_list = list(known_creatures)\n",
    "af_list = [phylo.generate_random() for i in range(AF)]\n",
    "train = af_list + at_list\n",
    "X = np.array(train)\n",
    "y = np.array([False for i in range(AF)] + [True for i in range(AT)])\n",
    "clf = LogisticRegression(random_state=0, solver='lbfgs', multi_class='multinomial').fit(X, y)\n",
    "print(\"Mean Accuracy = {0:.3f}\".format(clf.score(X, y)))\n",
    "print(clf.classes_)\n",
    "clf.coef_"
   ]
  },
  {
   "cell_type": "code",
   "execution_count": 7,
   "metadata": {},
   "outputs": [
    {
     "data": {
      "text/plain": [
       "array([[-0.00118118, -0.0012504 , -0.00132023, ..., -0.00131051,\n",
       "        -0.00116793, -0.00114431]])"
      ]
     },
     "execution_count": 7,
     "metadata": {},
     "output_type": "execute_result"
    }
   ],
   "source": [
    "w = clf.coef_\n",
    "w"
   ]
  },
  {
   "cell_type": "code",
   "execution_count": 58,
   "metadata": {},
   "outputs": [
    {
     "name": "stdout",
     "output_type": "stream",
     "text": [
      "done\n"
     ]
    }
   ],
   "source": [
    "def crossover(p1, p2):\n",
    "    idx = np.random.randint(len(p1))\n",
    "    c1 = np.array(list(p1[:idx]) + list(p2[idx:]))\n",
    "    c2 = np.array(list(p2[:idx]) + list(p1[idx:]))\n",
    "    return c1, c2\n",
    "    \n",
    "# initialize population\n",
    "bois = list(REGULAR_POKEMON[230:240])\n",
    "np.random.shuffle(bois)\n",
    "population = bois\n",
    "# while (termination criteria is reached) do\n",
    "t = 0\n",
    "while t < 500:\n",
    "    # find fitness of population\n",
    "    fits = clf.predict_proba(population)[:,1]\n",
    "    fits = fits / fits.sum()\n",
    "    # parent selection\n",
    "    kids = []\n",
    "    for i in range(4):\n",
    "        pidx = np.random.choice(len(population), 2, p=fits)\n",
    "        p1 = population[pidx[0]]\n",
    "        p2 = population[pidx[1]]\n",
    "        c1, c2 = crossover(p1, p2)\n",
    "        kids.append(c1)\n",
    "        kids.append(c2)\n",
    "    # mutation with probability pm\n",
    "    # decode and fitness calculation\n",
    "    # survivor selection\n",
    "    population = population + kids\n",
    "    t += 1\n",
    "    # find best\n",
    "# return best\n",
    "print(\"done\")"
   ]
  },
  {
   "cell_type": "code",
   "execution_count": 61,
   "metadata": {},
   "outputs": [
    {
     "data": {
      "text/html": [
       "<div>\n",
       "<style scoped>\n",
       "    .dataframe tbody tr th:only-of-type {\n",
       "        vertical-align: middle;\n",
       "    }\n",
       "\n",
       "    .dataframe tbody tr th {\n",
       "        vertical-align: top;\n",
       "    }\n",
       "\n",
       "    .dataframe thead th {\n",
       "        text-align: right;\n",
       "    }\n",
       "</style>\n",
       "<table border=\"1\" class=\"dataframe\">\n",
       "  <thead>\n",
       "    <tr style=\"text-align: right;\">\n",
       "      <th></th>\n",
       "      <th>population</th>\n",
       "      <th>fitness</th>\n",
       "    </tr>\n",
       "  </thead>\n",
       "  <tbody>\n",
       "    <tr>\n",
       "      <th>4005</th>\n",
       "      <td>[0, 0, 0, 0, 0, 0, 0, 0, 0, 0, 0, 0, 0, 0, 0, ...</td>\n",
       "      <td>0.999999</td>\n",
       "    </tr>\n",
       "    <tr>\n",
       "      <th>4006</th>\n",
       "      <td>[0, 0, 0, 0, 0, 0, 0, 0, 0, 0, 0, 0, 0, 0, 0, ...</td>\n",
       "      <td>0.999997</td>\n",
       "    </tr>\n",
       "    <tr>\n",
       "      <th>4007</th>\n",
       "      <td>[0, 0, 0, 0, 0, 0, 0, 0, 0, 0, 0, 0, 0, 0, 0, ...</td>\n",
       "      <td>0.999998</td>\n",
       "    </tr>\n",
       "    <tr>\n",
       "      <th>4008</th>\n",
       "      <td>[0, 0, 0, 0, 0, 0, 0, 0, 0, 0, 0, 0, 0, 0, 0, ...</td>\n",
       "      <td>0.999998</td>\n",
       "    </tr>\n",
       "    <tr>\n",
       "      <th>4009</th>\n",
       "      <td>[0, 0, 0, 0, 0, 0, 0, 0, 0, 0, 0, 0, 0, 0, 0, ...</td>\n",
       "      <td>0.999998</td>\n",
       "    </tr>\n",
       "  </tbody>\n",
       "</table>\n",
       "</div>"
      ],
      "text/plain": [
       "                                             population   fitness\n",
       "4005  [0, 0, 0, 0, 0, 0, 0, 0, 0, 0, 0, 0, 0, 0, 0, ...  0.999999\n",
       "4006  [0, 0, 0, 0, 0, 0, 0, 0, 0, 0, 0, 0, 0, 0, 0, ...  0.999997\n",
       "4007  [0, 0, 0, 0, 0, 0, 0, 0, 0, 0, 0, 0, 0, 0, 0, ...  0.999998\n",
       "4008  [0, 0, 0, 0, 0, 0, 0, 0, 0, 0, 0, 0, 0, 0, 0, ...  0.999998\n",
       "4009  [0, 0, 0, 0, 0, 0, 0, 0, 0, 0, 0, 0, 0, 0, 0, ...  0.999998"
      ]
     },
     "execution_count": 61,
     "metadata": {},
     "output_type": "execute_result"
    }
   ],
   "source": [
    "fits = clf.predict_proba(population)[:,1]\n",
    "pdf = pd.DataFrame()\n",
    "pdf[\"population\"] = pd.Series(population)\n",
    "pdf[\"fitness\"] = pd.Series(fits)\n",
    "pdf.tail(5)"
   ]
  },
  {
   "cell_type": "code",
   "execution_count": 65,
   "metadata": {},
   "outputs": [
    {
     "data": {
      "image/png": "[encoded data removed]",
      "text/plain": [
       "<PIL.Image.Image image mode=RGBA size=192x192 at 0x11AF724A8>"
      ]
     },
     "execution_count": 65,
     "metadata": {},
     "output_type": "execute_result"
    }
   ],
   "source": [
    "phylo.scale_img(phylo.unvectorize(population[3000]), 2)"
   ]
  },
  {
   "cell_type": "code",
   "execution_count": null,
   "metadata": {},
   "outputs": [],
   "source": []
  },
  {
   "cell_type": "code",
   "execution_count": null,
   "metadata": {
    "collapsed": true
   },
   "outputs": [],
   "source": []
  }
 ],
 "metadata": {
  "kernelspec": {
   "display_name": "Python 3",
   "language": "python",
   "name": "python3"
  },
  "language_info": {
   "codemirror_mode": {
    "name": "ipython",
    "version": 3
   },
   "file_extension": ".py",
   "mimetype": "text/x-python",
   "name": "python",
   "nbconvert_exporter": "python",
   "pygments_lexer": "ipython3",
   "version": "3.6.1"
  },
  "varInspector": {
   "cols": {
    "lenName": 16,
    "lenType": 16,
    "lenVar": 40
   },
   "kernels_config": {
    "python": {
     "delete_cmd_postfix": "",
     "delete_cmd_prefix": "del ",
     "library": "var_list.py",
     "varRefreshCmd": "print(var_dic_list())"
    },
    "r": {
     "delete_cmd_postfix": ") ",
     "delete_cmd_prefix": "rm(",
     "library": "var_list.r",
     "varRefreshCmd": "cat(var_dic_list()) "
    }
   },
   "types_to_exclude": [
    "module",
    "function",
    "builtin_function_or_method",
    "instance",
    "_Feature"
   ],
   "window_display": false
  }
 },
 "nbformat": 4,
 "nbformat_minor": 2
}
